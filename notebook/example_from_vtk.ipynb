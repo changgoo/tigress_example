{
 "cells": [
  {
   "cell_type": "code",
   "execution_count": 1,
   "metadata": {},
   "outputs": [],
   "source": [
    "%matplotlib inline\n",
    "%load_ext autoreload\n",
    "%autoreload 2"
   ]
  },
  {
   "cell_type": "code",
   "execution_count": 2,
   "metadata": {},
   "outputs": [],
   "source": [
    "import sys,os,glob\n",
    "import subprocess\n",
    "sys.path.insert(0,'../src')"
   ]
  },
  {
   "cell_type": "code",
   "execution_count": 21,
   "metadata": {},
   "outputs": [],
   "source": [
    "import numpy as np\n",
    "import matplotlib.pyplot as plt\n",
    "from matplotlib.colors import LogNorm,Normalize,SymLogNorm"
   ]
  },
  {
   "cell_type": "markdown",
   "metadata": {},
   "source": [
    "# data format:\n",
    "\n",
    "* `TIGRESS` simulations dump binary data files with a header following a specific format called `VTK`.\n",
    "* `VTK` file contains main physical quantities, e.g., `density`, `pressure`, `velocity`, `magnetic field`, etc.\n",
    "* (If post-processed) UV radiation fields (FUV and EUV) are then calculated by radiation transfer using adaptive ray tracing and stored in a separate `VTK` file. "
   ]
  },
  {
   "cell_type": "markdown",
   "metadata": {},
   "source": [
    "# exmaple data:\n",
    "\n",
    "* example data files can be downloaded at [this URL](http://tigress-web.princeton.edu/~changgoo/TIGRESS_example_data/)"
   ]
  },
  {
   "cell_type": "code",
   "execution_count": 22,
   "metadata": {},
   "outputs": [
    {
     "name": "stdout",
     "output_type": "stream",
     "text": [
      "muH 2.3869987106358e-24 g\n",
      "density 0.035268224298483024 solMass / pc3\n",
      "velocity 1.0 km / s\n",
      "length 1.0 pc\n",
      "time 0.9777922216731284 Myr\n",
      "pressure 2.3869987106358004e-14 erg / cm3\n",
      "gravitational_potential 1.0 km2 / s2\n",
      "number_density 1.0 1 / cm3\n",
      "magnetic_field 0.5476852239548456 uG\n",
      "temperature 1.0 K\n",
      "mass 0.03526822429848302 solMass\n",
      "Gcode 2.9365549587313344e-11 cm6 / (g2 s4)\n"
     ]
    }
   ],
   "source": [
    "# TIGRESS VTK dump reader and units\n",
    "from vtk_reader import *\n",
    "import set_units\n",
    "\n",
    "# mean molecular weight per hydrogoen (adopted in the simulation)\n",
    "muH=1.4271\n",
    "# unit setup\n",
    "units=set_units.set_units(muH=muH)\n",
    "\n",
    "# print unit system (utilizing astropy.constants and units)\n",
    "for k,v in units.items():\n",
    "    print(k,v)"
   ]
  },
  {
   "cell_type": "markdown",
   "metadata": {},
   "source": [
    "### NOTE: conversion between variables and unit conversion should be trivial except `temperature`, which involves a tabulated mean molecular weight."
   ]
  },
  {
   "cell_type": "code",
   "execution_count": 25,
   "metadata": {},
   "outputs": [],
   "source": [
    "data_folder='/tigress/changgoo/public_html/TIGRESS_example_data'"
   ]
  },
  {
   "cell_type": "code",
   "execution_count": 26,
   "metadata": {},
   "outputs": [
    {
     "name": "stdout",
     "output_type": "stream",
     "text": [
      "left_edge [ -512.  -512. -3584.]\n",
      "right_edge [ 512.  512. 3584.]\n",
      "dx [4. 4. 4.]\n",
      "Lx [1024. 1024. 7168.]\n",
      "center [0. 0. 0.]\n",
      "Nx [ 256  256 1792]\n",
      "ndim 3\n",
      "time 300.0009\n",
      "nscal 0\n"
     ]
    }
   ],
   "source": [
    "ds=AthenaDataSet('{}/MHD_4pc_new_joined.0300.vtk'.format(data_folder))\n",
    "\n",
    "# print data domain information\n",
    "for k,v in ds.domain.items():\n",
    "    if k != 'field_map':\n",
    "        print(k,v)"
   ]
  },
  {
   "cell_type": "code",
   "execution_count": 27,
   "metadata": {},
   "outputs": [
    {
     "name": "stdout",
     "output_type": "stream",
     "text": [
      "(1792, 256, 256)\n"
     ]
    }
   ],
   "source": [
    "# read hydrogen number density [returns 3D array]\n",
    "nH=ds.read_all_data('density')\n",
    "print(nH.shape)"
   ]
  },
  {
   "cell_type": "code",
   "execution_count": 28,
   "metadata": {},
   "outputs": [
    {
     "name": "stdout",
     "output_type": "stream",
     "text": [
      "['density', 'velocity', 'pressure', 'gravitational_potential', 'magnetic_field']\n"
     ]
    }
   ],
   "source": [
    "# available fields\n",
    "print(ds.field_list)"
   ]
  },
  {
   "cell_type": "code",
   "execution_count": null,
   "metadata": {},
   "outputs": [],
   "source": [
    "# velocity and magnetic field are vector [returns 4D array]\n",
    "Bvec=ds.read_all_data('magnetic_field')\n",
    "# convert to microgauss\n",
    "Bvec *= units['magnetic_field'].value\n",
    "print(Bvec.shape)"
   ]
  },
  {
   "cell_type": "code",
   "execution_count": null,
   "metadata": {},
   "outputs": [],
   "source": [
    "Bx=Bvec[...,0]\n",
    "By=Bvec[...,1]\n",
    "Bz=Bvec[...,2]"
   ]
  },
  {
   "cell_type": "code",
   "execution_count": null,
   "metadata": {},
   "outputs": [],
   "source": [
    "dx,dy,dz=ds.domain['dx']"
   ]
  },
  {
   "cell_type": "code",
   "execution_count": null,
   "metadata": {},
   "outputs": [],
   "source": [
    "# calculate surface density\n",
    "surf = (nH*dz).sum(axis=0)\n",
    "# unit conversion to (M_sun/pc^2)\n",
    "surf = (surf*units['density']*units['length']).to('M_sun/pc^2')\n",
    "# to hydrogen column density\n",
    "import astropy.constants as ac\n",
    "NH = (surf/(muH*ac.m_p)).to('cm^(-2)')"
   ]
  },
  {
   "cell_type": "code",
   "execution_count": null,
   "metadata": {},
   "outputs": [],
   "source": [
    "print(surf.mean(),NH.mean())"
   ]
  },
  {
   "cell_type": "code",
   "execution_count": null,
   "metadata": {},
   "outputs": [],
   "source": [
    "# example visualization\n",
    "le=ds.domain['left_edge']\n",
    "re=ds.domain['right_edge']\n",
    "\n",
    "fig,axes=plt.subplots(1,3,figsize=(15,6))\n",
    "\n",
    "extent=[le[0],re[0],le[1],re[1]]\n",
    "Nz, Ny, Nx = nH.shape\n",
    "hNz = int(Nz/2)\n",
    "nmid = nH[hNz,:,:] # midplane slice\n",
    "n500 = nH[hNz+int(500/dz),:,:] # z=500pc\n",
    "\n",
    "for ax, slc in zip(axes,[surf.value, nmid, n500]):\n",
    "    im = ax.imshow(slc,norm=LogNorm(),extent=extent)\n",
    "    cbar = plt.colorbar(im,ax=ax,orientation='horizontal')\n",
    "    ax.set_xlabel('x [pc]')\n",
    "    ax.set_ylabel('y [pc]')\n",
    "\n",
    "axes[0].set_title(r'surface density')\n",
    "axes[1].set_title(r'number density at z=0pc')\n",
    "axes[2].set_title(r'number density at z=500pc')"
   ]
  },
  {
   "cell_type": "code",
   "execution_count": null,
   "metadata": {},
   "outputs": [],
   "source": [
    "fig,axes = plt.subplots(1,2,figsize=(12,7))\n",
    "\n",
    "x = np.arange(le[0],re[0],dx) + 0.5*dx # cell-center positions\n",
    "y = np.arange(le[1],re[1],dy) + 0.5*dy # cell-center positions\n",
    "\n",
    "kidx=[hNz, hNz+int(500/dz)]\n",
    "for ax,k0 in zip(axes,kidx):\n",
    "    nslc=nH[k0,:,:]\n",
    "    Bxslc=Bx[k0,:,:]\n",
    "    Byslc=By[k0,:,:]\n",
    "    Bmag=np.sqrt(Bxslc**2+Byslc**2)\n",
    "    im=ax.imshow(nslc,cmap=plt.cm.binary,norm=LogNorm(vmin=1.e-4,vmax=100),extent=extent)\n",
    "    st=ax.streamplot(x,y,Bxslc,Byslc,\n",
    "                     color=Bmag,cmap=plt.cm.plasma,norm=LogNorm(vmin=1.e-2,vmax=10))\n",
    "    ax.set_xlim(le[0],re[0])\n",
    "    ax.set_ylim(le[1],re[1])\n",
    "    ax.set_xlabel('x [pc]')\n",
    "    ax.set_ylabel('y [pc]')\n",
    "axes[0].set_title(r'slice at z=0pc')\n",
    "axes[1].set_title(r'slice at z=500pc')\n",
    "plt.colorbar(im,ax=axes[0],orientation='horizontal',label=r'number density $[{\\rm cm}^{-3}]$')\n",
    "plt.colorbar(st.lines,ax=axes[1],orientation='horizontal',label=r'magnetic field strength $[\\mu{\\rm G}]$')"
   ]
  },
  {
   "cell_type": "code",
   "execution_count": null,
   "metadata": {},
   "outputs": [],
   "source": []
  }
 ],
 "metadata": {
  "kernelspec": {
   "display_name": "Python 3",
   "language": "python",
   "name": "python3"
  },
  "language_info": {
   "codemirror_mode": {
    "name": "ipython",
    "version": 3
   },
   "file_extension": ".py",
   "mimetype": "text/x-python",
   "name": "python",
   "nbconvert_exporter": "python",
   "pygments_lexer": "ipython3",
   "version": "3.7.1"
  }
 },
 "nbformat": 4,
 "nbformat_minor": 2
}
